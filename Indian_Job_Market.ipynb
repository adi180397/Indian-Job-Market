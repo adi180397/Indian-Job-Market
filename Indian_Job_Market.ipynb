{
  "nbformat": 4,
  "nbformat_minor": 0,
  "metadata": {
    "colab": {
      "provenance": [],
      "authorship_tag": "ABX9TyOEKPe50cRKvg161SohTylb",
      "include_colab_link": true
    },
    "kernelspec": {
      "name": "python3",
      "display_name": "Python 3"
    },
    "language_info": {
      "name": "python"
    }
  },
  "cells": [
    {
      "cell_type": "markdown",
      "metadata": {
        "id": "view-in-github",
        "colab_type": "text"
      },
      "source": [
        "<a href=\"https://colab.research.google.com/github/adi180397/Indian-Job-Market/blob/main/Indian_Job_Market.ipynb\" target=\"_parent\"><img src=\"https://colab.research.google.com/assets/colab-badge.svg\" alt=\"Open In Colab\"/></a>"
      ]
    },
    {
      "cell_type": "code",
      "execution_count": 12,
      "metadata": {
        "id": "6kn2zetDFbFo"
      },
      "outputs": [],
      "source": [
        "import pandas as pd\n",
        "import numpy as np\n",
        "import matplotlib.pyplot as plt\n",
        "import seaborn as sns"
      ]
    },
    {
      "cell_type": "code",
      "source": [
        "df=pd.read_csv('/content/india_job_market_dataset.csv')"
      ],
      "metadata": {
        "id": "KOj1lLAqFoq1"
      },
      "execution_count": 2,
      "outputs": []
    },
    {
      "cell_type": "code",
      "source": [
        "df.head(5)"
      ],
      "metadata": {
        "colab": {
          "base_uri": "https://localhost:8080/",
          "height": 451
        },
        "id": "HB0JQJjiFy2G",
        "outputId": "dbcdf689-7809-44d0-ebd0-3c8c96c02382"
      },
      "execution_count": 3,
      "outputs": [
        {
          "output_type": "execute_result",
          "data": {
            "text/plain": [
              "  Job ID            Job Title Company Name Job Location    Job Type  \\\n",
              "0   JOB1    Software Engineer       Amazon    Ahmedabad   Full-time   \n",
              "1   JOB2  Marketing Executive      Infosys    Ahmedabad  Internship   \n",
              "2   JOB3    Financial Analyst     Deloitte       Jaipur    Contract   \n",
              "3   JOB4     Business Analyst       Amazon        Delhi   Full-time   \n",
              "4   JOB5    Software Engineer      Infosys        Delhi   Full-time   \n",
              "\n",
              "  Salary Range Experience Required Posted Date Application Deadline  \\\n",
              "0      5-8 LPA           2-5 years  2025-01-16           2025-01-25   \n",
              "1      5-8 LPA           2-5 years  2024-12-25           2025-01-19   \n",
              "2      20+ LPA          5-10 years  2025-01-22           2025-01-29   \n",
              "3      20+ LPA           2-5 years  2025-01-07           2025-02-06   \n",
              "4    12-20 LPA           10+ years  2024-12-26           2025-01-08   \n",
              "\n",
              "   Job Portal  Number of Applicants Education Requirement  \\\n",
              "0    LinkedIn                    23                   PhD   \n",
              "1      Indeed                   462                   MBA   \n",
              "2  Naukri.com                   430                M.Tech   \n",
              "3    LinkedIn                   387                B.Tech   \n",
              "4      Indeed                   199                   MBA   \n",
              "\n",
              "                  Skills Required Remote/Onsite  Company Size  \n",
              "0                C++, SQL, Python        Remote  Small (1-50)  \n",
              "1                SQL, C++, Python        Remote  Large (500+)  \n",
              "2  Machine Learning, Excel, React        Remote  Large (500+)  \n",
              "3   Machine Learning, Python, SQL        Hybrid  Small (1-50)  \n",
              "4                UI/UX, C++, Java        Onsite  Small (1-50)  "
            ],
            "text/html": [
              "\n",
              "  <div id=\"df-962ae2c0-d170-45f9-afc6-457c041bfbaa\" class=\"colab-df-container\">\n",
              "    <div>\n",
              "<style scoped>\n",
              "    .dataframe tbody tr th:only-of-type {\n",
              "        vertical-align: middle;\n",
              "    }\n",
              "\n",
              "    .dataframe tbody tr th {\n",
              "        vertical-align: top;\n",
              "    }\n",
              "\n",
              "    .dataframe thead th {\n",
              "        text-align: right;\n",
              "    }\n",
              "</style>\n",
              "<table border=\"1\" class=\"dataframe\">\n",
              "  <thead>\n",
              "    <tr style=\"text-align: right;\">\n",
              "      <th></th>\n",
              "      <th>Job ID</th>\n",
              "      <th>Job Title</th>\n",
              "      <th>Company Name</th>\n",
              "      <th>Job Location</th>\n",
              "      <th>Job Type</th>\n",
              "      <th>Salary Range</th>\n",
              "      <th>Experience Required</th>\n",
              "      <th>Posted Date</th>\n",
              "      <th>Application Deadline</th>\n",
              "      <th>Job Portal</th>\n",
              "      <th>Number of Applicants</th>\n",
              "      <th>Education Requirement</th>\n",
              "      <th>Skills Required</th>\n",
              "      <th>Remote/Onsite</th>\n",
              "      <th>Company Size</th>\n",
              "    </tr>\n",
              "  </thead>\n",
              "  <tbody>\n",
              "    <tr>\n",
              "      <th>0</th>\n",
              "      <td>JOB1</td>\n",
              "      <td>Software Engineer</td>\n",
              "      <td>Amazon</td>\n",
              "      <td>Ahmedabad</td>\n",
              "      <td>Full-time</td>\n",
              "      <td>5-8 LPA</td>\n",
              "      <td>2-5 years</td>\n",
              "      <td>2025-01-16</td>\n",
              "      <td>2025-01-25</td>\n",
              "      <td>LinkedIn</td>\n",
              "      <td>23</td>\n",
              "      <td>PhD</td>\n",
              "      <td>C++, SQL, Python</td>\n",
              "      <td>Remote</td>\n",
              "      <td>Small (1-50)</td>\n",
              "    </tr>\n",
              "    <tr>\n",
              "      <th>1</th>\n",
              "      <td>JOB2</td>\n",
              "      <td>Marketing Executive</td>\n",
              "      <td>Infosys</td>\n",
              "      <td>Ahmedabad</td>\n",
              "      <td>Internship</td>\n",
              "      <td>5-8 LPA</td>\n",
              "      <td>2-5 years</td>\n",
              "      <td>2024-12-25</td>\n",
              "      <td>2025-01-19</td>\n",
              "      <td>Indeed</td>\n",
              "      <td>462</td>\n",
              "      <td>MBA</td>\n",
              "      <td>SQL, C++, Python</td>\n",
              "      <td>Remote</td>\n",
              "      <td>Large (500+)</td>\n",
              "    </tr>\n",
              "    <tr>\n",
              "      <th>2</th>\n",
              "      <td>JOB3</td>\n",
              "      <td>Financial Analyst</td>\n",
              "      <td>Deloitte</td>\n",
              "      <td>Jaipur</td>\n",
              "      <td>Contract</td>\n",
              "      <td>20+ LPA</td>\n",
              "      <td>5-10 years</td>\n",
              "      <td>2025-01-22</td>\n",
              "      <td>2025-01-29</td>\n",
              "      <td>Naukri.com</td>\n",
              "      <td>430</td>\n",
              "      <td>M.Tech</td>\n",
              "      <td>Machine Learning, Excel, React</td>\n",
              "      <td>Remote</td>\n",
              "      <td>Large (500+)</td>\n",
              "    </tr>\n",
              "    <tr>\n",
              "      <th>3</th>\n",
              "      <td>JOB4</td>\n",
              "      <td>Business Analyst</td>\n",
              "      <td>Amazon</td>\n",
              "      <td>Delhi</td>\n",
              "      <td>Full-time</td>\n",
              "      <td>20+ LPA</td>\n",
              "      <td>2-5 years</td>\n",
              "      <td>2025-01-07</td>\n",
              "      <td>2025-02-06</td>\n",
              "      <td>LinkedIn</td>\n",
              "      <td>387</td>\n",
              "      <td>B.Tech</td>\n",
              "      <td>Machine Learning, Python, SQL</td>\n",
              "      <td>Hybrid</td>\n",
              "      <td>Small (1-50)</td>\n",
              "    </tr>\n",
              "    <tr>\n",
              "      <th>4</th>\n",
              "      <td>JOB5</td>\n",
              "      <td>Software Engineer</td>\n",
              "      <td>Infosys</td>\n",
              "      <td>Delhi</td>\n",
              "      <td>Full-time</td>\n",
              "      <td>12-20 LPA</td>\n",
              "      <td>10+ years</td>\n",
              "      <td>2024-12-26</td>\n",
              "      <td>2025-01-08</td>\n",
              "      <td>Indeed</td>\n",
              "      <td>199</td>\n",
              "      <td>MBA</td>\n",
              "      <td>UI/UX, C++, Java</td>\n",
              "      <td>Onsite</td>\n",
              "      <td>Small (1-50)</td>\n",
              "    </tr>\n",
              "  </tbody>\n",
              "</table>\n",
              "</div>\n",
              "    <div class=\"colab-df-buttons\">\n",
              "\n",
              "  <div class=\"colab-df-container\">\n",
              "    <button class=\"colab-df-convert\" onclick=\"convertToInteractive('df-962ae2c0-d170-45f9-afc6-457c041bfbaa')\"\n",
              "            title=\"Convert this dataframe to an interactive table.\"\n",
              "            style=\"display:none;\">\n",
              "\n",
              "  <svg xmlns=\"http://www.w3.org/2000/svg\" height=\"24px\" viewBox=\"0 -960 960 960\">\n",
              "    <path d=\"M120-120v-720h720v720H120Zm60-500h600v-160H180v160Zm220 220h160v-160H400v160Zm0 220h160v-160H400v160ZM180-400h160v-160H180v160Zm440 0h160v-160H620v160ZM180-180h160v-160H180v160Zm440 0h160v-160H620v160Z\"/>\n",
              "  </svg>\n",
              "    </button>\n",
              "\n",
              "  <style>\n",
              "    .colab-df-container {\n",
              "      display:flex;\n",
              "      gap: 12px;\n",
              "    }\n",
              "\n",
              "    .colab-df-convert {\n",
              "      background-color: #E8F0FE;\n",
              "      border: none;\n",
              "      border-radius: 50%;\n",
              "      cursor: pointer;\n",
              "      display: none;\n",
              "      fill: #1967D2;\n",
              "      height: 32px;\n",
              "      padding: 0 0 0 0;\n",
              "      width: 32px;\n",
              "    }\n",
              "\n",
              "    .colab-df-convert:hover {\n",
              "      background-color: #E2EBFA;\n",
              "      box-shadow: 0px 1px 2px rgba(60, 64, 67, 0.3), 0px 1px 3px 1px rgba(60, 64, 67, 0.15);\n",
              "      fill: #174EA6;\n",
              "    }\n",
              "\n",
              "    .colab-df-buttons div {\n",
              "      margin-bottom: 4px;\n",
              "    }\n",
              "\n",
              "    [theme=dark] .colab-df-convert {\n",
              "      background-color: #3B4455;\n",
              "      fill: #D2E3FC;\n",
              "    }\n",
              "\n",
              "    [theme=dark] .colab-df-convert:hover {\n",
              "      background-color: #434B5C;\n",
              "      box-shadow: 0px 1px 3px 1px rgba(0, 0, 0, 0.15);\n",
              "      filter: drop-shadow(0px 1px 2px rgba(0, 0, 0, 0.3));\n",
              "      fill: #FFFFFF;\n",
              "    }\n",
              "  </style>\n",
              "\n",
              "    <script>\n",
              "      const buttonEl =\n",
              "        document.querySelector('#df-962ae2c0-d170-45f9-afc6-457c041bfbaa button.colab-df-convert');\n",
              "      buttonEl.style.display =\n",
              "        google.colab.kernel.accessAllowed ? 'block' : 'none';\n",
              "\n",
              "      async function convertToInteractive(key) {\n",
              "        const element = document.querySelector('#df-962ae2c0-d170-45f9-afc6-457c041bfbaa');\n",
              "        const dataTable =\n",
              "          await google.colab.kernel.invokeFunction('convertToInteractive',\n",
              "                                                    [key], {});\n",
              "        if (!dataTable) return;\n",
              "\n",
              "        const docLinkHtml = 'Like what you see? Visit the ' +\n",
              "          '<a target=\"_blank\" href=https://colab.research.google.com/notebooks/data_table.ipynb>data table notebook</a>'\n",
              "          + ' to learn more about interactive tables.';\n",
              "        element.innerHTML = '';\n",
              "        dataTable['output_type'] = 'display_data';\n",
              "        await google.colab.output.renderOutput(dataTable, element);\n",
              "        const docLink = document.createElement('div');\n",
              "        docLink.innerHTML = docLinkHtml;\n",
              "        element.appendChild(docLink);\n",
              "      }\n",
              "    </script>\n",
              "  </div>\n",
              "\n",
              "\n",
              "<div id=\"df-aa16c840-7fdf-4903-aefb-1ae70526d5b7\">\n",
              "  <button class=\"colab-df-quickchart\" onclick=\"quickchart('df-aa16c840-7fdf-4903-aefb-1ae70526d5b7')\"\n",
              "            title=\"Suggest charts\"\n",
              "            style=\"display:none;\">\n",
              "\n",
              "<svg xmlns=\"http://www.w3.org/2000/svg\" height=\"24px\"viewBox=\"0 0 24 24\"\n",
              "     width=\"24px\">\n",
              "    <g>\n",
              "        <path d=\"M19 3H5c-1.1 0-2 .9-2 2v14c0 1.1.9 2 2 2h14c1.1 0 2-.9 2-2V5c0-1.1-.9-2-2-2zM9 17H7v-7h2v7zm4 0h-2V7h2v10zm4 0h-2v-4h2v4z\"/>\n",
              "    </g>\n",
              "</svg>\n",
              "  </button>\n",
              "\n",
              "<style>\n",
              "  .colab-df-quickchart {\n",
              "      --bg-color: #E8F0FE;\n",
              "      --fill-color: #1967D2;\n",
              "      --hover-bg-color: #E2EBFA;\n",
              "      --hover-fill-color: #174EA6;\n",
              "      --disabled-fill-color: #AAA;\n",
              "      --disabled-bg-color: #DDD;\n",
              "  }\n",
              "\n",
              "  [theme=dark] .colab-df-quickchart {\n",
              "      --bg-color: #3B4455;\n",
              "      --fill-color: #D2E3FC;\n",
              "      --hover-bg-color: #434B5C;\n",
              "      --hover-fill-color: #FFFFFF;\n",
              "      --disabled-bg-color: #3B4455;\n",
              "      --disabled-fill-color: #666;\n",
              "  }\n",
              "\n",
              "  .colab-df-quickchart {\n",
              "    background-color: var(--bg-color);\n",
              "    border: none;\n",
              "    border-radius: 50%;\n",
              "    cursor: pointer;\n",
              "    display: none;\n",
              "    fill: var(--fill-color);\n",
              "    height: 32px;\n",
              "    padding: 0;\n",
              "    width: 32px;\n",
              "  }\n",
              "\n",
              "  .colab-df-quickchart:hover {\n",
              "    background-color: var(--hover-bg-color);\n",
              "    box-shadow: 0 1px 2px rgba(60, 64, 67, 0.3), 0 1px 3px 1px rgba(60, 64, 67, 0.15);\n",
              "    fill: var(--button-hover-fill-color);\n",
              "  }\n",
              "\n",
              "  .colab-df-quickchart-complete:disabled,\n",
              "  .colab-df-quickchart-complete:disabled:hover {\n",
              "    background-color: var(--disabled-bg-color);\n",
              "    fill: var(--disabled-fill-color);\n",
              "    box-shadow: none;\n",
              "  }\n",
              "\n",
              "  .colab-df-spinner {\n",
              "    border: 2px solid var(--fill-color);\n",
              "    border-color: transparent;\n",
              "    border-bottom-color: var(--fill-color);\n",
              "    animation:\n",
              "      spin 1s steps(1) infinite;\n",
              "  }\n",
              "\n",
              "  @keyframes spin {\n",
              "    0% {\n",
              "      border-color: transparent;\n",
              "      border-bottom-color: var(--fill-color);\n",
              "      border-left-color: var(--fill-color);\n",
              "    }\n",
              "    20% {\n",
              "      border-color: transparent;\n",
              "      border-left-color: var(--fill-color);\n",
              "      border-top-color: var(--fill-color);\n",
              "    }\n",
              "    30% {\n",
              "      border-color: transparent;\n",
              "      border-left-color: var(--fill-color);\n",
              "      border-top-color: var(--fill-color);\n",
              "      border-right-color: var(--fill-color);\n",
              "    }\n",
              "    40% {\n",
              "      border-color: transparent;\n",
              "      border-right-color: var(--fill-color);\n",
              "      border-top-color: var(--fill-color);\n",
              "    }\n",
              "    60% {\n",
              "      border-color: transparent;\n",
              "      border-right-color: var(--fill-color);\n",
              "    }\n",
              "    80% {\n",
              "      border-color: transparent;\n",
              "      border-right-color: var(--fill-color);\n",
              "      border-bottom-color: var(--fill-color);\n",
              "    }\n",
              "    90% {\n",
              "      border-color: transparent;\n",
              "      border-bottom-color: var(--fill-color);\n",
              "    }\n",
              "  }\n",
              "</style>\n",
              "\n",
              "  <script>\n",
              "    async function quickchart(key) {\n",
              "      const quickchartButtonEl =\n",
              "        document.querySelector('#' + key + ' button');\n",
              "      quickchartButtonEl.disabled = true;  // To prevent multiple clicks.\n",
              "      quickchartButtonEl.classList.add('colab-df-spinner');\n",
              "      try {\n",
              "        const charts = await google.colab.kernel.invokeFunction(\n",
              "            'suggestCharts', [key], {});\n",
              "      } catch (error) {\n",
              "        console.error('Error during call to suggestCharts:', error);\n",
              "      }\n",
              "      quickchartButtonEl.classList.remove('colab-df-spinner');\n",
              "      quickchartButtonEl.classList.add('colab-df-quickchart-complete');\n",
              "    }\n",
              "    (() => {\n",
              "      let quickchartButtonEl =\n",
              "        document.querySelector('#df-aa16c840-7fdf-4903-aefb-1ae70526d5b7 button');\n",
              "      quickchartButtonEl.style.display =\n",
              "        google.colab.kernel.accessAllowed ? 'block' : 'none';\n",
              "    })();\n",
              "  </script>\n",
              "</div>\n",
              "\n",
              "    </div>\n",
              "  </div>\n"
            ],
            "application/vnd.google.colaboratory.intrinsic+json": {
              "type": "dataframe",
              "variable_name": "df",
              "summary": "{\n  \"name\": \"df\",\n  \"rows\": 20000,\n  \"fields\": [\n    {\n      \"column\": \"Job ID\",\n      \"properties\": {\n        \"dtype\": \"string\",\n        \"num_unique_values\": 20000,\n        \"samples\": [\n          \"JOB10651\",\n          \"JOB2042\",\n          \"JOB8669\"\n        ],\n        \"semantic_type\": \"\",\n        \"description\": \"\"\n      }\n    },\n    {\n      \"column\": \"Job Title\",\n      \"properties\": {\n        \"dtype\": \"category\",\n        \"num_unique_values\": 10,\n        \"samples\": [\n          \"Cyber Security Analyst\",\n          \"Marketing Executive\",\n          \"Sales Representative\"\n        ],\n        \"semantic_type\": \"\",\n        \"description\": \"\"\n      }\n    },\n    {\n      \"column\": \"Company Name\",\n      \"properties\": {\n        \"dtype\": \"category\",\n        \"num_unique_values\": 10,\n        \"samples\": [\n          \"IBM\",\n          \"Infosys\",\n          \"HCL\"\n        ],\n        \"semantic_type\": \"\",\n        \"description\": \"\"\n      }\n    },\n    {\n      \"column\": \"Job Location\",\n      \"properties\": {\n        \"dtype\": \"category\",\n        \"num_unique_values\": 10,\n        \"samples\": [\n          \"Bangalore\",\n          \"Jaipur\",\n          \"Mumbai\"\n        ],\n        \"semantic_type\": \"\",\n        \"description\": \"\"\n      }\n    },\n    {\n      \"column\": \"Job Type\",\n      \"properties\": {\n        \"dtype\": \"category\",\n        \"num_unique_values\": 4,\n        \"samples\": [\n          \"Internship\",\n          \"Part-time\",\n          \"Full-time\"\n        ],\n        \"semantic_type\": \"\",\n        \"description\": \"\"\n      }\n    },\n    {\n      \"column\": \"Salary Range\",\n      \"properties\": {\n        \"dtype\": \"category\",\n        \"num_unique_values\": 5,\n        \"samples\": [\n          \"20+ LPA\",\n          \"8-12 LPA\",\n          \"12-20 LPA\"\n        ],\n        \"semantic_type\": \"\",\n        \"description\": \"\"\n      }\n    },\n    {\n      \"column\": \"Experience Required\",\n      \"properties\": {\n        \"dtype\": \"category\",\n        \"num_unique_values\": 4,\n        \"samples\": [\n          \"5-10 years\",\n          \"0-2 years\",\n          \"2-5 years\"\n        ],\n        \"semantic_type\": \"\",\n        \"description\": \"\"\n      }\n    },\n    {\n      \"column\": \"Posted Date\",\n      \"properties\": {\n        \"dtype\": \"object\",\n        \"num_unique_values\": 31,\n        \"samples\": [\n          \"2025-01-03\",\n          \"2025-01-14\",\n          \"2025-01-05\"\n        ],\n        \"semantic_type\": \"\",\n        \"description\": \"\"\n      }\n    },\n    {\n      \"column\": \"Application Deadline\",\n      \"properties\": {\n        \"dtype\": \"object\",\n        \"num_unique_values\": 54,\n        \"samples\": [\n          \"2025-02-11\",\n          \"2025-02-20\",\n          \"2025-01-02\"\n        ],\n        \"semantic_type\": \"\",\n        \"description\": \"\"\n      }\n    },\n    {\n      \"column\": \"Job Portal\",\n      \"properties\": {\n        \"dtype\": \"category\",\n        \"num_unique_values\": 3,\n        \"samples\": [\n          \"LinkedIn\",\n          \"Indeed\",\n          \"Naukri.com\"\n        ],\n        \"semantic_type\": \"\",\n        \"description\": \"\"\n      }\n    },\n    {\n      \"column\": \"Number of Applicants\",\n      \"properties\": {\n        \"dtype\": \"number\",\n        \"std\": 141,\n        \"min\": 10,\n        \"max\": 500,\n        \"num_unique_values\": 491,\n        \"samples\": [\n          22,\n          78,\n          68\n        ],\n        \"semantic_type\": \"\",\n        \"description\": \"\"\n      }\n    },\n    {\n      \"column\": \"Education Requirement\",\n      \"properties\": {\n        \"dtype\": \"category\",\n        \"num_unique_values\": 5,\n        \"samples\": [\n          \"MBA\",\n          \"B.Sc\",\n          \"M.Tech\"\n        ],\n        \"semantic_type\": \"\",\n        \"description\": \"\"\n      }\n    },\n    {\n      \"column\": \"Skills Required\",\n      \"properties\": {\n        \"dtype\": \"category\",\n        \"num_unique_values\": 720,\n        \"samples\": [\n          \"AWS, Machine Learning, React\",\n          \"Excel, React, UI/UX\",\n          \"Machine Learning, C++, SQL\"\n        ],\n        \"semantic_type\": \"\",\n        \"description\": \"\"\n      }\n    },\n    {\n      \"column\": \"Remote/Onsite\",\n      \"properties\": {\n        \"dtype\": \"category\",\n        \"num_unique_values\": 3,\n        \"samples\": [\n          \"Remote\",\n          \"Hybrid\",\n          \"Onsite\"\n        ],\n        \"semantic_type\": \"\",\n        \"description\": \"\"\n      }\n    },\n    {\n      \"column\": \"Company Size\",\n      \"properties\": {\n        \"dtype\": \"category\",\n        \"num_unique_values\": 3,\n        \"samples\": [\n          \"Small (1-50)\",\n          \"Large (500+)\",\n          \"Medium (51-500)\"\n        ],\n        \"semantic_type\": \"\",\n        \"description\": \"\"\n      }\n    }\n  ]\n}"
            }
          },
          "metadata": {},
          "execution_count": 3
        }
      ]
    },
    {
      "cell_type": "code",
      "source": [
        "df.shape # 20000 rows and 15 columns\n"
      ],
      "metadata": {
        "colab": {
          "base_uri": "https://localhost:8080/"
        },
        "id": "kp__y4GtFpIu",
        "outputId": "aae0a9a5-ac77-45ee-e480-8f6c693228e2"
      },
      "execution_count": 4,
      "outputs": [
        {
          "output_type": "execute_result",
          "data": {
            "text/plain": [
              "(20000, 15)"
            ]
          },
          "metadata": {},
          "execution_count": 4
        }
      ]
    },
    {
      "cell_type": "code",
      "source": [
        "df.info() # All the data types are string and not null"
      ],
      "metadata": {
        "colab": {
          "base_uri": "https://localhost:8080/"
        },
        "id": "Zzfi_B6aF9Df",
        "outputId": "64cf4c34-3dd3-4e2e-dc12-ae90c792117d"
      },
      "execution_count": 5,
      "outputs": [
        {
          "output_type": "stream",
          "name": "stdout",
          "text": [
            "<class 'pandas.core.frame.DataFrame'>\n",
            "RangeIndex: 20000 entries, 0 to 19999\n",
            "Data columns (total 15 columns):\n",
            " #   Column                 Non-Null Count  Dtype \n",
            "---  ------                 --------------  ----- \n",
            " 0   Job ID                 20000 non-null  object\n",
            " 1   Job Title              20000 non-null  object\n",
            " 2   Company Name           20000 non-null  object\n",
            " 3   Job Location           20000 non-null  object\n",
            " 4   Job Type               20000 non-null  object\n",
            " 5   Salary Range           20000 non-null  object\n",
            " 6   Experience Required    20000 non-null  object\n",
            " 7   Posted Date            20000 non-null  object\n",
            " 8   Application Deadline   20000 non-null  object\n",
            " 9   Job Portal             20000 non-null  object\n",
            " 10  Number of Applicants   20000 non-null  int64 \n",
            " 11  Education Requirement  20000 non-null  object\n",
            " 12  Skills Required        20000 non-null  object\n",
            " 13  Remote/Onsite          20000 non-null  object\n",
            " 14  Company Size           20000 non-null  object\n",
            "dtypes: int64(1), object(14)\n",
            "memory usage: 2.3+ MB\n"
          ]
        }
      ]
    },
    {
      "cell_type": "code",
      "source": [
        "df.duplicated().sum() # No duplicated rows"
      ],
      "metadata": {
        "colab": {
          "base_uri": "https://localhost:8080/"
        },
        "id": "apSOWe3kGGyE",
        "outputId": "6038146c-0e08-44b0-9961-cdb24df585b1"
      },
      "execution_count": 6,
      "outputs": [
        {
          "output_type": "execute_result",
          "data": {
            "text/plain": [
              "0"
            ]
          },
          "metadata": {},
          "execution_count": 6
        }
      ]
    },
    {
      "cell_type": "code",
      "source": [
        "df.columns"
      ],
      "metadata": {
        "colab": {
          "base_uri": "https://localhost:8080/"
        },
        "id": "at6Um5WkGbiJ",
        "outputId": "abb60471-c2d3-4d1c-9d95-aa115cdc6f07"
      },
      "execution_count": 7,
      "outputs": [
        {
          "output_type": "execute_result",
          "data": {
            "text/plain": [
              "Index(['Job ID', 'Job Title', 'Company Name', 'Job Location', 'Job Type',\n",
              "       'Salary Range', 'Experience Required', 'Posted Date',\n",
              "       'Application Deadline', 'Job Portal', 'Number of Applicants',\n",
              "       'Education Requirement', 'Skills Required', 'Remote/Onsite',\n",
              "       'Company Size'],\n",
              "      dtype='object')"
            ]
          },
          "metadata": {},
          "execution_count": 7
        }
      ]
    },
    {
      "cell_type": "code",
      "source": [],
      "metadata": {
        "id": "WeXCDwNoGkhj"
      },
      "execution_count": null,
      "outputs": []
    },
    {
      "cell_type": "markdown",
      "source": [
        "# **Univariate Analysis**\n",
        "\n",
        "---\n",
        "\n"
      ],
      "metadata": {
        "id": "E7NcVzaMGoZ4"
      }
    },
    {
      "cell_type": "code",
      "source": [],
      "metadata": {
        "id": "_ba5Sj6vG6b2"
      },
      "execution_count": null,
      "outputs": []
    },
    {
      "cell_type": "markdown",
      "source": [
        "## Job ID"
      ],
      "metadata": {
        "id": "VNVpPrlpHDep"
      }
    },
    {
      "cell_type": "code",
      "source": [
        "df['Job ID'].nunique()  # all unique entries"
      ],
      "metadata": {
        "colab": {
          "base_uri": "https://localhost:8080/"
        },
        "id": "emAWeT5aHIis",
        "outputId": "0ff029d7-5a67-4b70-988a-99e87788b9c4"
      },
      "execution_count": 8,
      "outputs": [
        {
          "output_type": "execute_result",
          "data": {
            "text/plain": [
              "20000"
            ]
          },
          "metadata": {},
          "execution_count": 8
        }
      ]
    },
    {
      "cell_type": "code",
      "source": [],
      "metadata": {
        "id": "lecv6e5sHL1U"
      },
      "execution_count": null,
      "outputs": []
    },
    {
      "cell_type": "markdown",
      "source": [
        "## Job Title"
      ],
      "metadata": {
        "id": "LnOP2UvbHY_R"
      }
    },
    {
      "cell_type": "code",
      "source": [
        "df['Job Title'].nunique() # There are 10 unique jobs in the datasets"
      ],
      "metadata": {
        "colab": {
          "base_uri": "https://localhost:8080/"
        },
        "id": "gb05oYWcHqzg",
        "outputId": "98f65d9a-24b3-484b-fda5-d733d0d9da04"
      },
      "execution_count": 11,
      "outputs": [
        {
          "output_type": "execute_result",
          "data": {
            "text/plain": [
              "10"
            ]
          },
          "metadata": {},
          "execution_count": 11
        }
      ]
    },
    {
      "cell_type": "code",
      "source": [
        "df['Job Title'].value_counts()"
      ],
      "metadata": {
        "colab": {
          "base_uri": "https://localhost:8080/",
          "height": 429
        },
        "id": "y6ZXKMfqHeU6",
        "outputId": "6d325aeb-a27c-4286-83e5-4b72f6b3bf34"
      },
      "execution_count": 10,
      "outputs": [
        {
          "output_type": "execute_result",
          "data": {
            "text/plain": [
              "Job Title\n",
              "Cyber Security Analyst    2085\n",
              "Marketing Executive       2036\n",
              "Graphic Designer          2013\n",
              "Financial Analyst         2008\n",
              "Product Manager           2006\n",
              "Business Analyst          1989\n",
              "Data Scientist            1976\n",
              "HR Manager                1974\n",
              "Software Engineer         1971\n",
              "Sales Representative      1942\n",
              "Name: count, dtype: int64"
            ],
            "text/html": [
              "<div>\n",
              "<style scoped>\n",
              "    .dataframe tbody tr th:only-of-type {\n",
              "        vertical-align: middle;\n",
              "    }\n",
              "\n",
              "    .dataframe tbody tr th {\n",
              "        vertical-align: top;\n",
              "    }\n",
              "\n",
              "    .dataframe thead th {\n",
              "        text-align: right;\n",
              "    }\n",
              "</style>\n",
              "<table border=\"1\" class=\"dataframe\">\n",
              "  <thead>\n",
              "    <tr style=\"text-align: right;\">\n",
              "      <th></th>\n",
              "      <th>count</th>\n",
              "    </tr>\n",
              "    <tr>\n",
              "      <th>Job Title</th>\n",
              "      <th></th>\n",
              "    </tr>\n",
              "  </thead>\n",
              "  <tbody>\n",
              "    <tr>\n",
              "      <th>Cyber Security Analyst</th>\n",
              "      <td>2085</td>\n",
              "    </tr>\n",
              "    <tr>\n",
              "      <th>Marketing Executive</th>\n",
              "      <td>2036</td>\n",
              "    </tr>\n",
              "    <tr>\n",
              "      <th>Graphic Designer</th>\n",
              "      <td>2013</td>\n",
              "    </tr>\n",
              "    <tr>\n",
              "      <th>Financial Analyst</th>\n",
              "      <td>2008</td>\n",
              "    </tr>\n",
              "    <tr>\n",
              "      <th>Product Manager</th>\n",
              "      <td>2006</td>\n",
              "    </tr>\n",
              "    <tr>\n",
              "      <th>Business Analyst</th>\n",
              "      <td>1989</td>\n",
              "    </tr>\n",
              "    <tr>\n",
              "      <th>Data Scientist</th>\n",
              "      <td>1976</td>\n",
              "    </tr>\n",
              "    <tr>\n",
              "      <th>HR Manager</th>\n",
              "      <td>1974</td>\n",
              "    </tr>\n",
              "    <tr>\n",
              "      <th>Software Engineer</th>\n",
              "      <td>1971</td>\n",
              "    </tr>\n",
              "    <tr>\n",
              "      <th>Sales Representative</th>\n",
              "      <td>1942</td>\n",
              "    </tr>\n",
              "  </tbody>\n",
              "</table>\n",
              "</div><br><label><b>dtype:</b> int64</label>"
            ]
          },
          "metadata": {},
          "execution_count": 10
        }
      ]
    },
    {
      "cell_type": "code",
      "source": [
        "df['Job Title'].value_counts().index"
      ],
      "metadata": {
        "colab": {
          "base_uri": "https://localhost:8080/"
        },
        "id": "E5PjQFLwHj0V",
        "outputId": "5ca8e045-db29-477f-bb18-69926f53e458"
      },
      "execution_count": 15,
      "outputs": [
        {
          "output_type": "execute_result",
          "data": {
            "text/plain": [
              "Index(['Cyber Security Analyst', 'Marketing Executive', 'Graphic Designer',\n",
              "       'Financial Analyst', 'Product Manager', 'Business Analyst',\n",
              "       'Data Scientist', 'HR Manager', 'Software Engineer',\n",
              "       'Sales Representative'],\n",
              "      dtype='object', name='Job Title')"
            ]
          },
          "metadata": {},
          "execution_count": 15
        }
      ]
    },
    {
      "cell_type": "code",
      "source": [
        "plt.bar(df['Job Title'].value_counts().index,df['Job Title'].value_counts(),color='green')\n",
        "plt.xticks(rotation=90)\n",
        "plt.xlabel('Job Title')\n",
        "plt.ylabel('Count')\n",
        "plt.title('Job Title Distribution')\n",
        "plt.tight_layout()\n",
        "plt.show()\n"
      ],
      "metadata": {
        "colab": {
          "base_uri": "https://localhost:8080/",
          "height": 487
        },
        "id": "YINOGUe1I7cR",
        "outputId": "14c963a3-98a7-486f-8d2c-072821be7fc9"
      },
      "execution_count": 23,
      "outputs": [
        {
          "output_type": "display_data",
          "data": {
            "text/plain": [
              "<Figure size 640x480 with 1 Axes>"
            ],
            "image/png": "[encoded data removed]"
          },
          "metadata": {}
        }
      ]
    },
    {
      "cell_type": "markdown",
      "source": [
        "All 10 jobs has given equal weightage in the market"
      ],
      "metadata": {
        "id": "V_TRkeRFJ3HB"
      }
    },
    {
      "cell_type": "code",
      "source": [],
      "metadata": {
        "id": "DYQ4t-CmJT86"
      },
      "execution_count": null,
      "outputs": []
    },
    {
      "cell_type": "markdown",
      "source": [
        "## Comapny name"
      ],
      "metadata": {
        "id": "dp0X_zfQKJ13"
      }
    },
    {
      "cell_type": "code",
      "source": [
        "df['Company Name'].nunique() # there are unique company in this datasets"
      ],
      "metadata": {
        "colab": {
          "base_uri": "https://localhost:8080/"
        },
        "id": "_bkmm9bdKQxw",
        "outputId": "d529d92e-c8e4-4d7a-e839-477b448b0d49"
      },
      "execution_count": 24,
      "outputs": [
        {
          "output_type": "execute_result",
          "data": {
            "text/plain": [
              "10"
            ]
          },
          "metadata": {},
          "execution_count": 24
        }
      ]
    },
    {
      "cell_type": "code",
      "source": [
        "df['Company Name'].value_counts()"
      ],
      "metadata": {
        "colab": {
          "base_uri": "https://localhost:8080/",
          "height": 429
        },
        "id": "u935jGqlKUYk",
        "outputId": "6b4bac74-437a-49d0-bd37-36dbc783e806"
      },
      "execution_count": 25,
      "outputs": [
        {
          "output_type": "execute_result",
          "data": {
            "text/plain": [
              "Company Name\n",
              "Amazon       2086\n",
              "Wipro        2069\n",
              "HCL          2023\n",
              "Google       2004\n",
              "Deloitte     1983\n",
              "Infosys      1981\n",
              "TCS          1979\n",
              "Microsoft    1977\n",
              "Accenture    1954\n",
              "IBM          1944\n",
              "Name: count, dtype: int64"
            ],
            "text/html": [
              "<div>\n",
              "<style scoped>\n",
              "    .dataframe tbody tr th:only-of-type {\n",
              "        vertical-align: middle;\n",
              "    }\n",
              "\n",
              "    .dataframe tbody tr th {\n",
              "        vertical-align: top;\n",
              "    }\n",
              "\n",
              "    .dataframe thead th {\n",
              "        text-align: right;\n",
              "    }\n",
              "</style>\n",
              "<table border=\"1\" class=\"dataframe\">\n",
              "  <thead>\n",
              "    <tr style=\"text-align: right;\">\n",
              "      <th></th>\n",
              "      <th>count</th>\n",
              "    </tr>\n",
              "    <tr>\n",
              "      <th>Company Name</th>\n",
              "      <th></th>\n",
              "    </tr>\n",
              "  </thead>\n",
              "  <tbody>\n",
              "    <tr>\n",
              "      <th>Amazon</th>\n",
              "      <td>2086</td>\n",
              "    </tr>\n",
              "    <tr>\n",
              "      <th>Wipro</th>\n",
              "      <td>2069</td>\n",
              "    </tr>\n",
              "    <tr>\n",
              "      <th>HCL</th>\n",
              "      <td>2023</td>\n",
              "    </tr>\n",
              "    <tr>\n",
              "      <th>Google</th>\n",
              "      <td>2004</td>\n",
              "    </tr>\n",
              "    <tr>\n",
              "      <th>Deloitte</th>\n",
              "      <td>1983</td>\n",
              "    </tr>\n",
              "    <tr>\n",
              "      <th>Infosys</th>\n",
              "      <td>1981</td>\n",
              "    </tr>\n",
              "    <tr>\n",
              "      <th>TCS</th>\n",
              "      <td>1979</td>\n",
              "    </tr>\n",
              "    <tr>\n",
              "      <th>Microsoft</th>\n",
              "      <td>1977</td>\n",
              "    </tr>\n",
              "    <tr>\n",
              "      <th>Accenture</th>\n",
              "      <td>1954</td>\n",
              "    </tr>\n",
              "    <tr>\n",
              "      <th>IBM</th>\n",
              "      <td>1944</td>\n",
              "    </tr>\n",
              "  </tbody>\n",
              "</table>\n",
              "</div><br><label><b>dtype:</b> int64</label>"
            ]
          },
          "metadata": {},
          "execution_count": 25
        }
      ]
    },
    {
      "cell_type": "code",
      "source": [
        "plt.bar(df['Company Name'].value_counts().index,df['Company Name'].value_counts(),color='green')\n",
        "plt.xticks(rotation=90)\n",
        "plt.xlabel('Company Name')\n",
        "plt.ylabel('Count')\n",
        "plt.title('Company Name Distribution')\n",
        "plt.tight_layout()\n",
        "plt.show()"
      ],
      "metadata": {
        "colab": {
          "base_uri": "https://localhost:8080/",
          "height": 487
        },
        "id": "jgLYi8iCKjLn",
        "outputId": "02697d91-6849-4ebf-e050-66d1f4fea9ce"
      },
      "execution_count": 26,
      "outputs": [
        {
          "output_type": "display_data",
          "data": {
            "text/plain": [
              "<Figure size 640x480 with 1 Axes>"
            ],
            "image/png": "[encoded data removed]"
          },
          "metadata": {}
        }
      ]
    },
    {
      "cell_type": "markdown",
      "source": [
        "## Job Location"
      ],
      "metadata": {
        "id": "-yOawXFPK37n"
      }
    },
    {
      "cell_type": "code",
      "source": [
        "df.columns"
      ],
      "metadata": {
        "colab": {
          "base_uri": "https://localhost:8080/"
        },
        "id": "Ppx8U9VLLGqy",
        "outputId": "fb43e5ca-9ac8-433d-c9b8-225cec392ef9"
      },
      "execution_count": 27,
      "outputs": [
        {
          "output_type": "execute_result",
          "data": {
            "text/plain": [
              "Index(['Job ID', 'Job Title', 'Company Name', 'Job Location', 'Job Type',\n",
              "       'Salary Range', 'Experience Required', 'Posted Date',\n",
              "       'Application Deadline', 'Job Portal', 'Number of Applicants',\n",
              "       'Education Requirement', 'Skills Required', 'Remote/Onsite',\n",
              "       'Company Size'],\n",
              "      dtype='object')"
            ]
          },
          "metadata": {},
          "execution_count": 27
        }
      ]
    },
    {
      "cell_type": "code",
      "source": [
        "df['Job Location'].nunique() # 10 unique cities"
      ],
      "metadata": {
        "colab": {
          "base_uri": "https://localhost:8080/"
        },
        "id": "SWLxkBY3KxVm",
        "outputId": "cb4ec62b-fa10-416d-c9fd-17460be9044b"
      },
      "execution_count": 28,
      "outputs": [
        {
          "output_type": "execute_result",
          "data": {
            "text/plain": [
              "10"
            ]
          },
          "metadata": {},
          "execution_count": 28
        }
      ]
    },
    {
      "cell_type": "code",
      "source": [
        "df['Job Location'].value_counts()"
      ],
      "metadata": {
        "colab": {
          "base_uri": "https://localhost:8080/",
          "height": 429
        },
        "id": "k9TJ7ntkKxYw",
        "outputId": "eb047fd0-eb18-4d4b-8630-b0e02f4b2f11"
      },
      "execution_count": 29,
      "outputs": [
        {
          "output_type": "execute_result",
          "data": {
            "text/plain": [
              "Job Location\n",
              "Hyderabad    2055\n",
              "Bangalore    2023\n",
              "Ahmedabad    2019\n",
              "Jaipur       2019\n",
              "Chennai      2018\n",
              "Noida        1993\n",
              "Delhi        1990\n",
              "Pune         1970\n",
              "Mumbai       1958\n",
              "Kolkata      1955\n",
              "Name: count, dtype: int64"
            ],
            "text/html": [
              "<div>\n",
              "<style scoped>\n",
              "    .dataframe tbody tr th:only-of-type {\n",
              "        vertical-align: middle;\n",
              "    }\n",
              "\n",
              "    .dataframe tbody tr th {\n",
              "        vertical-align: top;\n",
              "    }\n",
              "\n",
              "    .dataframe thead th {\n",
              "        text-align: right;\n",
              "    }\n",
              "</style>\n",
              "<table border=\"1\" class=\"dataframe\">\n",
              "  <thead>\n",
              "    <tr style=\"text-align: right;\">\n",
              "      <th></th>\n",
              "      <th>count</th>\n",
              "    </tr>\n",
              "    <tr>\n",
              "      <th>Job Location</th>\n",
              "      <th></th>\n",
              "    </tr>\n",
              "  </thead>\n",
              "  <tbody>\n",
              "    <tr>\n",
              "      <th>Hyderabad</th>\n",
              "      <td>2055</td>\n",
              "    </tr>\n",
              "    <tr>\n",
              "      <th>Bangalore</th>\n",
              "      <td>2023</td>\n",
              "    </tr>\n",
              "    <tr>\n",
              "      <th>Ahmedabad</th>\n",
              "      <td>2019</td>\n",
              "    </tr>\n",
              "    <tr>\n",
              "      <th>Jaipur</th>\n",
              "      <td>2019</td>\n",
              "    </tr>\n",
              "    <tr>\n",
              "      <th>Chennai</th>\n",
              "      <td>2018</td>\n",
              "    </tr>\n",
              "    <tr>\n",
              "      <th>Noida</th>\n",
              "      <td>1993</td>\n",
              "    </tr>\n",
              "    <tr>\n",
              "      <th>Delhi</th>\n",
              "      <td>1990</td>\n",
              "    </tr>\n",
              "    <tr>\n",
              "      <th>Pune</th>\n",
              "      <td>1970</td>\n",
              "    </tr>\n",
              "    <tr>\n",
              "      <th>Mumbai</th>\n",
              "      <td>1958</td>\n",
              "    </tr>\n",
              "    <tr>\n",
              "      <th>Kolkata</th>\n",
              "      <td>1955</td>\n",
              "    </tr>\n",
              "  </tbody>\n",
              "</table>\n",
              "</div><br><label><b>dtype:</b> int64</label>"
            ]
          },
          "metadata": {},
          "execution_count": 29
        }
      ]
    },
    {
      "cell_type": "code",
      "source": [
        "plt.bar(df['Job Location'].value_counts().index,df['Job Location'].value_counts(),color='green')\n",
        "plt.xticks(rotation=90)\n",
        "plt.xlabel('Job Location')\n",
        "plt.ylabel('Count')\n",
        "plt.title('Job Location Distribution')\n",
        "plt.tight_layout()\n",
        "plt.show()"
      ],
      "metadata": {
        "colab": {
          "base_uri": "https://localhost:8080/",
          "height": 487
        },
        "id": "u2jH5LtLLVBQ",
        "outputId": "75f584c0-959d-4f8e-fb33-ca5f05e290fa"
      },
      "execution_count": 30,
      "outputs": [
        {
          "output_type": "display_data",
          "data": {
            "text/plain": [
              "<Figure size 640x480 with 1 Axes>"
            ],
            "image/png": "[encoded data removed]"
          },
          "metadata": {}
        }
      ]
    },
    {
      "cell_type": "markdown",
      "source": [
        "Most of the jobs coming from Hyderabad,followed by Banglore and Ahmedabad"
      ],
      "metadata": {
        "id": "tB8O0-cqLmsq"
      }
    },
    {
      "cell_type": "markdown",
      "source": [
        "## Job Type\n"
      ],
      "metadata": {
        "id": "PmEvgJjwL4TU"
      }
    },
    {
      "cell_type": "code",
      "source": [
        "df['Job Type'].nunique() # 4 unique job types"
      ],
      "metadata": {
        "colab": {
          "base_uri": "https://localhost:8080/"
        },
        "id": "jlEr7kxoLkYy",
        "outputId": "9c3f39d1-ec9e-4fb7-f3b4-de76354fe55c"
      },
      "execution_count": 32,
      "outputs": [
        {
          "output_type": "execute_result",
          "data": {
            "text/plain": [
              "4"
            ]
          },
          "metadata": {},
          "execution_count": 32
        }
      ]
    },
    {
      "cell_type": "code",
      "source": [
        "df['Job Type'].value_counts()"
      ],
      "metadata": {
        "colab": {
          "base_uri": "https://localhost:8080/",
          "height": 241
        },
        "id": "r0tyNR1rMF5D",
        "outputId": "4dda0e40-de19-448e-8255-0c1c992070b9"
      },
      "execution_count": 33,
      "outputs": [
        {
          "output_type": "execute_result",
          "data": {
            "text/plain": [
              "Job Type\n",
              "Part-time     5111\n",
              "Internship    5085\n",
              "Full-time     4981\n",
              "Contract      4823\n",
              "Name: count, dtype: int64"
            ],
            "text/html": [
              "<div>\n",
              "<style scoped>\n",
              "    .dataframe tbody tr th:only-of-type {\n",
              "        vertical-align: middle;\n",
              "    }\n",
              "\n",
              "    .dataframe tbody tr th {\n",
              "        vertical-align: top;\n",
              "    }\n",
              "\n",
              "    .dataframe thead th {\n",
              "        text-align: right;\n",
              "    }\n",
              "</style>\n",
              "<table border=\"1\" class=\"dataframe\">\n",
              "  <thead>\n",
              "    <tr style=\"text-align: right;\">\n",
              "      <th></th>\n",
              "      <th>count</th>\n",
              "    </tr>\n",
              "    <tr>\n",
              "      <th>Job Type</th>\n",
              "      <th></th>\n",
              "    </tr>\n",
              "  </thead>\n",
              "  <tbody>\n",
              "    <tr>\n",
              "      <th>Part-time</th>\n",
              "      <td>5111</td>\n",
              "    </tr>\n",
              "    <tr>\n",
              "      <th>Internship</th>\n",
              "      <td>5085</td>\n",
              "    </tr>\n",
              "    <tr>\n",
              "      <th>Full-time</th>\n",
              "      <td>4981</td>\n",
              "    </tr>\n",
              "    <tr>\n",
              "      <th>Contract</th>\n",
              "      <td>4823</td>\n",
              "    </tr>\n",
              "  </tbody>\n",
              "</table>\n",
              "</div><br><label><b>dtype:</b> int64</label>"
            ]
          },
          "metadata": {},
          "execution_count": 33
        }
      ]
    },
    {
      "cell_type": "code",
      "source": [
        "plt.bar(df['Job Type'].value_counts().index,df['Job Type'].value_counts(),color='green')\n",
        "plt.xticks(rotation=90)\n",
        "plt.xlabel('Job Type')\n",
        "plt.ylabel('Count')\n",
        "plt.title('Job Type Distribution')\n",
        "plt.tight_layout()\n",
        "plt.show()"
      ],
      "metadata": {
        "colab": {
          "base_uri": "https://localhost:8080/",
          "height": 487
        },
        "id": "CYuMm_X7MMMi",
        "outputId": "b46e4f1e-8d97-4ca8-e32f-fc86f7bc6efb"
      },
      "execution_count": 34,
      "outputs": [
        {
          "output_type": "display_data",
          "data": {
            "text/plain": [
              "<Figure size 640x480 with 1 Axes>"
            ],
            "image/png": "[encoded data removed]"
          },
          "metadata": {}
        }
      ]
    },
    {
      "cell_type": "markdown",
      "source": [
        "Most of the jobs coming parttime, internship"
      ],
      "metadata": {
        "id": "N3jo8u_HMaj1"
      }
    },
    {
      "cell_type": "markdown",
      "source": [
        "## Salary Range"
      ],
      "metadata": {
        "id": "IWe_BbaFMhuh"
      }
    },
    {
      "cell_type": "code",
      "source": [
        "df['Salary Range'].value_counts()"
      ],
      "metadata": {
        "colab": {
          "base_uri": "https://localhost:8080/",
          "height": 272
        },
        "id": "mmGZT2HuMZZ5",
        "outputId": "9b6a3b30-48c3-475b-b4bf-69825b36dd71"
      },
      "execution_count": 36,
      "outputs": [
        {
          "output_type": "execute_result",
          "data": {
            "text/plain": [
              "Salary Range\n",
              "12-20 LPA    4066\n",
              "8-12 LPA     4003\n",
              "3-5 LPA      3996\n",
              "20+ LPA      3968\n",
              "5-8 LPA      3967\n",
              "Name: count, dtype: int64"
            ],
            "text/html": [
              "<div>\n",
              "<style scoped>\n",
              "    .dataframe tbody tr th:only-of-type {\n",
              "        vertical-align: middle;\n",
              "    }\n",
              "\n",
              "    .dataframe tbody tr th {\n",
              "        vertical-align: top;\n",
              "    }\n",
              "\n",
              "    .dataframe thead th {\n",
              "        text-align: right;\n",
              "    }\n",
              "</style>\n",
              "<table border=\"1\" class=\"dataframe\">\n",
              "  <thead>\n",
              "    <tr style=\"text-align: right;\">\n",
              "      <th></th>\n",
              "      <th>count</th>\n",
              "    </tr>\n",
              "    <tr>\n",
              "      <th>Salary Range</th>\n",
              "      <th></th>\n",
              "    </tr>\n",
              "  </thead>\n",
              "  <tbody>\n",
              "    <tr>\n",
              "      <th>12-20 LPA</th>\n",
              "      <td>4066</td>\n",
              "    </tr>\n",
              "    <tr>\n",
              "      <th>8-12 LPA</th>\n",
              "      <td>4003</td>\n",
              "    </tr>\n",
              "    <tr>\n",
              "      <th>3-5 LPA</th>\n",
              "      <td>3996</td>\n",
              "    </tr>\n",
              "    <tr>\n",
              "      <th>20+ LPA</th>\n",
              "      <td>3968</td>\n",
              "    </tr>\n",
              "    <tr>\n",
              "      <th>5-8 LPA</th>\n",
              "      <td>3967</td>\n",
              "    </tr>\n",
              "  </tbody>\n",
              "</table>\n",
              "</div><br><label><b>dtype:</b> int64</label>"
            ]
          },
          "metadata": {},
          "execution_count": 36
        }
      ]
    },
    {
      "cell_type": "code",
      "source": [
        "plt.bar(df['Salary Range'].value_counts().index,df['Salary Range'].value_counts(),color='green')\n",
        "plt.xticks(rotation=90)\n",
        "plt.xlabel('Salary Range')\n",
        "plt.ylabel('Count')\n",
        "plt.title('Salary Range Distribution')\n",
        "plt.tight_layout()\n",
        "plt.show()"
      ],
      "metadata": {
        "colab": {
          "base_uri": "https://localhost:8080/",
          "height": 487
        },
        "id": "VEWYSWifMrM7",
        "outputId": "7f02c7ba-6223-4196-f9f3-c8b819b58a3f"
      },
      "execution_count": 37,
      "outputs": [
        {
          "output_type": "display_data",
          "data": {
            "text/plain": [
              "<Figure size 640x480 with 1 Axes>"
            ],
            "image/png": "[encoded data removed]"
          },
          "metadata": {}
        }
      ]
    },
    {
      "cell_type": "markdown",
      "source": [
        "Most of the company giving salary in the range of 12-20 LPA followed by 8-12 LPA"
      ],
      "metadata": {
        "id": "bkPf_kfvM-YD"
      }
    },
    {
      "cell_type": "code",
      "source": [
        "df.columns"
      ],
      "metadata": {
        "colab": {
          "base_uri": "https://localhost:8080/"
        },
        "id": "skVzyg5FM4zi",
        "outputId": "aba5de02-44c9-4cbe-ed3e-4c8fd97af934"
      },
      "execution_count": 38,
      "outputs": [
        {
          "output_type": "execute_result",
          "data": {
            "text/plain": [
              "Index(['Job ID', 'Job Title', 'Company Name', 'Job Location', 'Job Type',\n",
              "       'Salary Range', 'Experience Required', 'Posted Date',\n",
              "       'Application Deadline', 'Job Portal', 'Number of Applicants',\n",
              "       'Education Requirement', 'Skills Required', 'Remote/Onsite',\n",
              "       'Company Size'],\n",
              "      dtype='object')"
            ]
          },
          "metadata": {},
          "execution_count": 38
        }
      ]
    },
    {
      "cell_type": "markdown",
      "source": [
        "## Experience Required"
      ],
      "metadata": {
        "id": "Sc8pG3C8NQZy"
      }
    },
    {
      "cell_type": "code",
      "source": [
        "df['Experience Required'].value_counts()"
      ],
      "metadata": {
        "colab": {
          "base_uri": "https://localhost:8080/",
          "height": 241
        },
        "id": "XFZLlCxUNOYy",
        "outputId": "e40a5e67-2cab-4a93-e3ea-cd546985160c"
      },
      "execution_count": 40,
      "outputs": [
        {
          "output_type": "execute_result",
          "data": {
            "text/plain": [
              "Experience Required\n",
              "10+ years     5069\n",
              "2-5 years     5003\n",
              "0-2 years     4980\n",
              "5-10 years    4948\n",
              "Name: count, dtype: int64"
            ],
            "text/html": [
              "<div>\n",
              "<style scoped>\n",
              "    .dataframe tbody tr th:only-of-type {\n",
              "        vertical-align: middle;\n",
              "    }\n",
              "\n",
              "    .dataframe tbody tr th {\n",
              "        vertical-align: top;\n",
              "    }\n",
              "\n",
              "    .dataframe thead th {\n",
              "        text-align: right;\n",
              "    }\n",
              "</style>\n",
              "<table border=\"1\" class=\"dataframe\">\n",
              "  <thead>\n",
              "    <tr style=\"text-align: right;\">\n",
              "      <th></th>\n",
              "      <th>count</th>\n",
              "    </tr>\n",
              "    <tr>\n",
              "      <th>Experience Required</th>\n",
              "      <th></th>\n",
              "    </tr>\n",
              "  </thead>\n",
              "  <tbody>\n",
              "    <tr>\n",
              "      <th>10+ years</th>\n",
              "      <td>5069</td>\n",
              "    </tr>\n",
              "    <tr>\n",
              "      <th>2-5 years</th>\n",
              "      <td>5003</td>\n",
              "    </tr>\n",
              "    <tr>\n",
              "      <th>0-2 years</th>\n",
              "      <td>4980</td>\n",
              "    </tr>\n",
              "    <tr>\n",
              "      <th>5-10 years</th>\n",
              "      <td>4948</td>\n",
              "    </tr>\n",
              "  </tbody>\n",
              "</table>\n",
              "</div><br><label><b>dtype:</b> int64</label>"
            ]
          },
          "metadata": {},
          "execution_count": 40
        }
      ]
    },
    {
      "cell_type": "markdown",
      "source": [
        "In most of the jobs the experience required is 10+ years followed by 2-5 years"
      ],
      "metadata": {
        "id": "nt7Zg9B5NlwS"
      }
    },
    {
      "cell_type": "markdown",
      "source": [
        "## Posted Date"
      ],
      "metadata": {
        "id": "T-ZdU1nrN4hK"
      }
    },
    {
      "cell_type": "code",
      "source": [
        "print(type(df['Posted Date']))"
      ],
      "metadata": {
        "colab": {
          "base_uri": "https://localhost:8080/"
        },
        "id": "HTptiXvBNcEn",
        "outputId": "c8dba4f4-8a0d-4974-cd61-8c95cdc64156"
      },
      "execution_count": 45,
      "outputs": [
        {
          "output_type": "stream",
          "name": "stdout",
          "text": [
            "<class 'pandas.core.series.Series'>\n"
          ]
        }
      ]
    },
    {
      "cell_type": "code",
      "source": [
        "df['Posted Date']=df['Posted Date'].astype('datetime64[ns]')"
      ],
      "metadata": {
        "id": "f0raIV1xOIOb"
      },
      "execution_count": 47,
      "outputs": []
    },
    {
      "cell_type": "code",
      "source": [
        "df['Posted Date'].min()"
      ],
      "metadata": {
        "colab": {
          "base_uri": "https://localhost:8080/"
        },
        "id": "P1SBtgmJO4Id",
        "outputId": "36220885-103e-4881-91d7-7ff31912a01e"
      },
      "execution_count": 49,
      "outputs": [
        {
          "output_type": "execute_result",
          "data": {
            "text/plain": [
              "Timestamp('2024-12-23 00:00:00')"
            ]
          },
          "metadata": {},
          "execution_count": 49
        }
      ]
    },
    {
      "cell_type": "code",
      "source": [
        "df['Posted Date'].max()"
      ],
      "metadata": {
        "colab": {
          "base_uri": "https://localhost:8080/"
        },
        "id": "Z4vrWqRPOyMP",
        "outputId": "7ddf07f1-8011-4c05-9ed5-5b3d3150863e"
      },
      "execution_count": 50,
      "outputs": [
        {
          "output_type": "execute_result",
          "data": {
            "text/plain": [
              "Timestamp('2025-01-22 00:00:00')"
            ]
          },
          "metadata": {},
          "execution_count": 50
        }
      ]
    },
    {
      "cell_type": "markdown",
      "source": [
        "1 month data start from 23 dec, 2024 to 22 jan,2025"
      ],
      "metadata": {
        "id": "wMyvMHIXPR1O"
      }
    },
    {
      "cell_type": "markdown",
      "source": [
        "## Job Portal"
      ],
      "metadata": {
        "id": "HKYl2uO4PhYt"
      }
    },
    {
      "cell_type": "code",
      "source": [
        "df['Job Portal'].value_counts()"
      ],
      "metadata": {
        "colab": {
          "base_uri": "https://localhost:8080/",
          "height": 209
        },
        "id": "AG8Bg3XgPBmw",
        "outputId": "d1f3abb9-90d6-4d90-a9b7-c261ebf11fe4"
      },
      "execution_count": 51,
      "outputs": [
        {
          "output_type": "execute_result",
          "data": {
            "text/plain": [
              "Job Portal\n",
              "Naukri.com    6791\n",
              "Indeed        6756\n",
              "LinkedIn      6453\n",
              "Name: count, dtype: int64"
            ],
            "text/html": [
              "<div>\n",
              "<style scoped>\n",
              "    .dataframe tbody tr th:only-of-type {\n",
              "        vertical-align: middle;\n",
              "    }\n",
              "\n",
              "    .dataframe tbody tr th {\n",
              "        vertical-align: top;\n",
              "    }\n",
              "\n",
              "    .dataframe thead th {\n",
              "        text-align: right;\n",
              "    }\n",
              "</style>\n",
              "<table border=\"1\" class=\"dataframe\">\n",
              "  <thead>\n",
              "    <tr style=\"text-align: right;\">\n",
              "      <th></th>\n",
              "      <th>count</th>\n",
              "    </tr>\n",
              "    <tr>\n",
              "      <th>Job Portal</th>\n",
              "      <th></th>\n",
              "    </tr>\n",
              "  </thead>\n",
              "  <tbody>\n",
              "    <tr>\n",
              "      <th>Naukri.com</th>\n",
              "      <td>6791</td>\n",
              "    </tr>\n",
              "    <tr>\n",
              "      <th>Indeed</th>\n",
              "      <td>6756</td>\n",
              "    </tr>\n",
              "    <tr>\n",
              "      <th>LinkedIn</th>\n",
              "      <td>6453</td>\n",
              "    </tr>\n",
              "  </tbody>\n",
              "</table>\n",
              "</div><br><label><b>dtype:</b> int64</label>"
            ]
          },
          "metadata": {},
          "execution_count": 51
        }
      ]
    },
    {
      "cell_type": "markdown",
      "source": [
        "Most of the jobs are posted on Naukari.com followed by Indeed and LinkedIn\n"
      ],
      "metadata": {
        "id": "YNJ6KYLSPrGo"
      }
    },
    {
      "cell_type": "markdown",
      "source": [
        "## Number of Job Applicants"
      ],
      "metadata": {
        "id": "Bn8zUTzzP4zs"
      }
    },
    {
      "cell_type": "code",
      "source": [
        "# will be useful while doing bivariate analysis"
      ],
      "metadata": {
        "colab": {
          "base_uri": "https://localhost:8080/"
        },
        "id": "dpo0RRPGPn2M",
        "outputId": "4e22ee85-bed6-426e-8ed6-ee6b5389fd73"
      },
      "execution_count": 53,
      "outputs": [
        {
          "output_type": "stream",
          "name": "stdout",
          "text": [
            "<class 'pandas.core.series.Series'>\n"
          ]
        }
      ]
    },
    {
      "cell_type": "markdown",
      "source": [
        "## Education Requirement"
      ],
      "metadata": {
        "id": "ykPQhhkmQgJl"
      }
    },
    {
      "cell_type": "code",
      "source": [
        "df['Education Requirement'].value_counts()"
      ],
      "metadata": {
        "colab": {
          "base_uri": "https://localhost:8080/",
          "height": 272
        },
        "id": "cBArdRmMQeaL",
        "outputId": "101c8912-082b-4cab-87cf-1dd4abbb28ed"
      },
      "execution_count": 54,
      "outputs": [
        {
          "output_type": "execute_result",
          "data": {
            "text/plain": [
              "Education Requirement\n",
              "B.Sc      4023\n",
              "B.Tech    4014\n",
              "PhD       3994\n",
              "MBA       3986\n",
              "M.Tech    3983\n",
              "Name: count, dtype: int64"
            ],
            "text/html": [
              "<div>\n",
              "<style scoped>\n",
              "    .dataframe tbody tr th:only-of-type {\n",
              "        vertical-align: middle;\n",
              "    }\n",
              "\n",
              "    .dataframe tbody tr th {\n",
              "        vertical-align: top;\n",
              "    }\n",
              "\n",
              "    .dataframe thead th {\n",
              "        text-align: right;\n",
              "    }\n",
              "</style>\n",
              "<table border=\"1\" class=\"dataframe\">\n",
              "  <thead>\n",
              "    <tr style=\"text-align: right;\">\n",
              "      <th></th>\n",
              "      <th>count</th>\n",
              "    </tr>\n",
              "    <tr>\n",
              "      <th>Education Requirement</th>\n",
              "      <th></th>\n",
              "    </tr>\n",
              "  </thead>\n",
              "  <tbody>\n",
              "    <tr>\n",
              "      <th>B.Sc</th>\n",
              "      <td>4023</td>\n",
              "    </tr>\n",
              "    <tr>\n",
              "      <th>B.Tech</th>\n",
              "      <td>4014</td>\n",
              "    </tr>\n",
              "    <tr>\n",
              "      <th>PhD</th>\n",
              "      <td>3994</td>\n",
              "    </tr>\n",
              "    <tr>\n",
              "      <th>MBA</th>\n",
              "      <td>3986</td>\n",
              "    </tr>\n",
              "    <tr>\n",
              "      <th>M.Tech</th>\n",
              "      <td>3983</td>\n",
              "    </tr>\n",
              "  </tbody>\n",
              "</table>\n",
              "</div><br><label><b>dtype:</b> int64</label>"
            ]
          },
          "metadata": {},
          "execution_count": 54
        }
      ]
    },
    {
      "cell_type": "markdown",
      "source": [
        "The more you study the lesser you get the jobs 😀"
      ],
      "metadata": {
        "id": "l-Pjl0MPQuSf"
      }
    },
    {
      "cell_type": "markdown",
      "source": [
        "## Skills Required"
      ],
      "metadata": {
        "id": "VlY59IPFRNVV"
      }
    },
    {
      "cell_type": "code",
      "source": [
        "df['Skills Required'].value_counts()"
      ],
      "metadata": {
        "colab": {
          "base_uri": "https://localhost:8080/",
          "height": 489
        },
        "id": "r6gff-V0QDgf",
        "outputId": "23e13225-2771-4973-cd3e-905fd41e3d62"
      },
      "execution_count": 55,
      "outputs": [
        {
          "output_type": "execute_result",
          "data": {
            "text/plain": [
              "Skills Required\n",
              "React, SQL, Java                    43\n",
              "C++, React, Excel                   43\n",
              "Digital Marketing, Python, Excel    42\n",
              "Java, UI/UX, React                  42\n",
              "Machine Learning, C++, Python       42\n",
              "                                    ..\n",
              "React, Digital Marketing, C++       15\n",
              "Digital Marketing, C++, UI/UX       15\n",
              "AWS, SQL, Digital Marketing         14\n",
              "Digital Marketing, Excel, Python    14\n",
              "Machine Learning, C++, AWS          14\n",
              "Name: count, Length: 720, dtype: int64"
            ],
            "text/html": [
              "<div>\n",
              "<style scoped>\n",
              "    .dataframe tbody tr th:only-of-type {\n",
              "        vertical-align: middle;\n",
              "    }\n",
              "\n",
              "    .dataframe tbody tr th {\n",
              "        vertical-align: top;\n",
              "    }\n",
              "\n",
              "    .dataframe thead th {\n",
              "        text-align: right;\n",
              "    }\n",
              "</style>\n",
              "<table border=\"1\" class=\"dataframe\">\n",
              "  <thead>\n",
              "    <tr style=\"text-align: right;\">\n",
              "      <th></th>\n",
              "      <th>count</th>\n",
              "    </tr>\n",
              "    <tr>\n",
              "      <th>Skills Required</th>\n",
              "      <th></th>\n",
              "    </tr>\n",
              "  </thead>\n",
              "  <tbody>\n",
              "    <tr>\n",
              "      <th>React, SQL, Java</th>\n",
              "      <td>43</td>\n",
              "    </tr>\n",
              "    <tr>\n",
              "      <th>C++, React, Excel</th>\n",
              "      <td>43</td>\n",
              "    </tr>\n",
              "    <tr>\n",
              "      <th>Digital Marketing, Python, Excel</th>\n",
              "      <td>42</td>\n",
              "    </tr>\n",
              "    <tr>\n",
              "      <th>Java, UI/UX, React</th>\n",
              "      <td>42</td>\n",
              "    </tr>\n",
              "    <tr>\n",
              "      <th>Machine Learning, C++, Python</th>\n",
              "      <td>42</td>\n",
              "    </tr>\n",
              "    <tr>\n",
              "      <th>...</th>\n",
              "      <td>...</td>\n",
              "    </tr>\n",
              "    <tr>\n",
              "      <th>React, Digital Marketing, C++</th>\n",
              "      <td>15</td>\n",
              "    </tr>\n",
              "    <tr>\n",
              "      <th>Digital Marketing, C++, UI/UX</th>\n",
              "      <td>15</td>\n",
              "    </tr>\n",
              "    <tr>\n",
              "      <th>AWS, SQL, Digital Marketing</th>\n",
              "      <td>14</td>\n",
              "    </tr>\n",
              "    <tr>\n",
              "      <th>Digital Marketing, Excel, Python</th>\n",
              "      <td>14</td>\n",
              "    </tr>\n",
              "    <tr>\n",
              "      <th>Machine Learning, C++, AWS</th>\n",
              "      <td>14</td>\n",
              "    </tr>\n",
              "  </tbody>\n",
              "</table>\n",
              "<p>720 rows × 1 columns</p>\n",
              "</div><br><label><b>dtype:</b> int64</label>"
            ]
          },
          "metadata": {},
          "execution_count": 55
        }
      ]
    },
    {
      "cell_type": "code",
      "source": [
        "df['Skills Required']"
      ],
      "metadata": {
        "colab": {
          "base_uri": "https://localhost:8080/",
          "height": 458
        },
        "id": "WMEXP79tRTq4",
        "outputId": "8d7122d6-d9ae-44e7-cb94-e3908399184e"
      },
      "execution_count": 56,
      "outputs": [
        {
          "output_type": "execute_result",
          "data": {
            "text/plain": [
              "0                                  C++, SQL, Python\n",
              "1                                  SQL, C++, Python\n",
              "2                    Machine Learning, Excel, React\n",
              "3                     Machine Learning, Python, SQL\n",
              "4                                  UI/UX, C++, Java\n",
              "                            ...                    \n",
              "19995                 Machine Learning, Python, AWS\n",
              "19996    Digital Marketing, React, Machine Learning\n",
              "19997    Machine Learning, Excel, Digital Marketing\n",
              "19998                             Excel, C++, React\n",
              "19999                             Java, C++, Python\n",
              "Name: Skills Required, Length: 20000, dtype: object"
            ],
            "text/html": [
              "<div>\n",
              "<style scoped>\n",
              "    .dataframe tbody tr th:only-of-type {\n",
              "        vertical-align: middle;\n",
              "    }\n",
              "\n",
              "    .dataframe tbody tr th {\n",
              "        vertical-align: top;\n",
              "    }\n",
              "\n",
              "    .dataframe thead th {\n",
              "        text-align: right;\n",
              "    }\n",
              "</style>\n",
              "<table border=\"1\" class=\"dataframe\">\n",
              "  <thead>\n",
              "    <tr style=\"text-align: right;\">\n",
              "      <th></th>\n",
              "      <th>Skills Required</th>\n",
              "    </tr>\n",
              "  </thead>\n",
              "  <tbody>\n",
              "    <tr>\n",
              "      <th>0</th>\n",
              "      <td>C++, SQL, Python</td>\n",
              "    </tr>\n",
              "    <tr>\n",
              "      <th>1</th>\n",
              "      <td>SQL, C++, Python</td>\n",
              "    </tr>\n",
              "    <tr>\n",
              "      <th>2</th>\n",
              "      <td>Machine Learning, Excel, React</td>\n",
              "    </tr>\n",
              "    <tr>\n",
              "      <th>3</th>\n",
              "      <td>Machine Learning, Python, SQL</td>\n",
              "    </tr>\n",
              "    <tr>\n",
              "      <th>4</th>\n",
              "      <td>UI/UX, C++, Java</td>\n",
              "    </tr>\n",
              "    <tr>\n",
              "      <th>...</th>\n",
              "      <td>...</td>\n",
              "    </tr>\n",
              "    <tr>\n",
              "      <th>19995</th>\n",
              "      <td>Machine Learning, Python, AWS</td>\n",
              "    </tr>\n",
              "    <tr>\n",
              "      <th>19996</th>\n",
              "      <td>Digital Marketing, React, Machine Learning</td>\n",
              "    </tr>\n",
              "    <tr>\n",
              "      <th>19997</th>\n",
              "      <td>Machine Learning, Excel, Digital Marketing</td>\n",
              "    </tr>\n",
              "    <tr>\n",
              "      <th>19998</th>\n",
              "      <td>Excel, C++, React</td>\n",
              "    </tr>\n",
              "    <tr>\n",
              "      <th>19999</th>\n",
              "      <td>Java, C++, Python</td>\n",
              "    </tr>\n",
              "  </tbody>\n",
              "</table>\n",
              "<p>20000 rows × 1 columns</p>\n",
              "</div><br><label><b>dtype:</b> object</label>"
            ]
          },
          "metadata": {},
          "execution_count": 56
        }
      ]
    },
    {
      "cell_type": "code",
      "source": [
        "from collections import Counter"
      ],
      "metadata": {
        "id": "O1qEdVu6S1_H"
      },
      "execution_count": 57,
      "outputs": []
    },
    {
      "cell_type": "code",
      "source": [
        "def count_skills(dataframe, column_name):\n",
        "    all_skills = [skill.strip() for skills in dataframe[column_name] for skill in skills.split(\",\")]\n",
        "    skill_counts = Counter(all_skills)\n",
        "    return skill_counts"
      ],
      "metadata": {
        "id": "XZh54p9qSx6L"
      },
      "execution_count": 58,
      "outputs": []
    },
    {
      "cell_type": "code",
      "source": [
        "count_skills(df, 'Skills Required')"
      ],
      "metadata": {
        "colab": {
          "base_uri": "https://localhost:8080/"
        },
        "id": "NwXfX5-US7XP",
        "outputId": "9c251c3d-e5f8-4cb4-8f9a-1bb1aabbe3a7"
      },
      "execution_count": 59,
      "outputs": [
        {
          "output_type": "execute_result",
          "data": {
            "text/plain": [
              "Counter({'C++': 5993,\n",
              "         'SQL': 5953,\n",
              "         'Python': 6134,\n",
              "         'Machine Learning': 5857,\n",
              "         'Excel': 5951,\n",
              "         'React': 6073,\n",
              "         'UI/UX': 6138,\n",
              "         'Java': 6103,\n",
              "         'Digital Marketing': 5907,\n",
              "         'AWS': 5891})"
            ]
          },
          "metadata": {},
          "execution_count": 59
        }
      ]
    },
    {
      "cell_type": "markdown",
      "source": [
        "The top 4 common skills are C++, SQL, Python and Machine learning"
      ],
      "metadata": {
        "id": "GuYLBGLRTEhe"
      }
    },
    {
      "cell_type": "markdown",
      "source": [
        "## Remote/Onsite"
      ],
      "metadata": {
        "id": "QBcvXHdwTdnM"
      }
    },
    {
      "cell_type": "code",
      "source": [
        "df['Remote/Onsite'].value_counts()"
      ],
      "metadata": {
        "colab": {
          "base_uri": "https://localhost:8080/",
          "height": 209
        },
        "id": "iFS7mpFXRnEk",
        "outputId": "054a9621-9373-43e2-a2db-16c6f6996548"
      },
      "execution_count": 60,
      "outputs": [
        {
          "output_type": "execute_result",
          "data": {
            "text/plain": [
              "Remote/Onsite\n",
              "Remote    6742\n",
              "Onsite    6697\n",
              "Hybrid    6561\n",
              "Name: count, dtype: int64"
            ],
            "text/html": [
              "<div>\n",
              "<style scoped>\n",
              "    .dataframe tbody tr th:only-of-type {\n",
              "        vertical-align: middle;\n",
              "    }\n",
              "\n",
              "    .dataframe tbody tr th {\n",
              "        vertical-align: top;\n",
              "    }\n",
              "\n",
              "    .dataframe thead th {\n",
              "        text-align: right;\n",
              "    }\n",
              "</style>\n",
              "<table border=\"1\" class=\"dataframe\">\n",
              "  <thead>\n",
              "    <tr style=\"text-align: right;\">\n",
              "      <th></th>\n",
              "      <th>count</th>\n",
              "    </tr>\n",
              "    <tr>\n",
              "      <th>Remote/Onsite</th>\n",
              "      <th></th>\n",
              "    </tr>\n",
              "  </thead>\n",
              "  <tbody>\n",
              "    <tr>\n",
              "      <th>Remote</th>\n",
              "      <td>6742</td>\n",
              "    </tr>\n",
              "    <tr>\n",
              "      <th>Onsite</th>\n",
              "      <td>6697</td>\n",
              "    </tr>\n",
              "    <tr>\n",
              "      <th>Hybrid</th>\n",
              "      <td>6561</td>\n",
              "    </tr>\n",
              "  </tbody>\n",
              "</table>\n",
              "</div><br><label><b>dtype:</b> int64</label>"
            ]
          },
          "metadata": {},
          "execution_count": 60
        }
      ]
    },
    {
      "cell_type": "markdown",
      "source": [
        "Company focusing on Remote followed by Onsite and Hybrid Jobs"
      ],
      "metadata": {
        "id": "u1QdW83KToHG"
      }
    },
    {
      "cell_type": "markdown",
      "source": [
        "## Company Size"
      ],
      "metadata": {
        "id": "Op2dU0OuT1wP"
      }
    },
    {
      "cell_type": "code",
      "source": [
        "df['Company Size'].value_counts()"
      ],
      "metadata": {
        "colab": {
          "base_uri": "https://localhost:8080/",
          "height": 209
        },
        "id": "OjV6UpgSTlhz",
        "outputId": "86a62a7a-69d2-4c98-d164-0fd330603f32"
      },
      "execution_count": 62,
      "outputs": [
        {
          "output_type": "execute_result",
          "data": {
            "text/plain": [
              "Company Size\n",
              "Small (1-50)       6718\n",
              "Medium (51-500)    6644\n",
              "Large (500+)       6638\n",
              "Name: count, dtype: int64"
            ],
            "text/html": [
              "<div>\n",
              "<style scoped>\n",
              "    .dataframe tbody tr th:only-of-type {\n",
              "        vertical-align: middle;\n",
              "    }\n",
              "\n",
              "    .dataframe tbody tr th {\n",
              "        vertical-align: top;\n",
              "    }\n",
              "\n",
              "    .dataframe thead th {\n",
              "        text-align: right;\n",
              "    }\n",
              "</style>\n",
              "<table border=\"1\" class=\"dataframe\">\n",
              "  <thead>\n",
              "    <tr style=\"text-align: right;\">\n",
              "      <th></th>\n",
              "      <th>count</th>\n",
              "    </tr>\n",
              "    <tr>\n",
              "      <th>Company Size</th>\n",
              "      <th></th>\n",
              "    </tr>\n",
              "  </thead>\n",
              "  <tbody>\n",
              "    <tr>\n",
              "      <th>Small (1-50)</th>\n",
              "      <td>6718</td>\n",
              "    </tr>\n",
              "    <tr>\n",
              "      <th>Medium (51-500)</th>\n",
              "      <td>6644</td>\n",
              "    </tr>\n",
              "    <tr>\n",
              "      <th>Large (500+)</th>\n",
              "      <td>6638</td>\n",
              "    </tr>\n",
              "  </tbody>\n",
              "</table>\n",
              "</div><br><label><b>dtype:</b> int64</label>"
            ]
          },
          "metadata": {},
          "execution_count": 62
        }
      ]
    },
    {
      "cell_type": "markdown",
      "source": [
        "Company size divided into Small, Medium and Large"
      ],
      "metadata": {
        "id": "F6mn0s_JUF9K"
      }
    },
    {
      "cell_type": "code",
      "source": [],
      "metadata": {
        "id": "HOh7VWs3T_gj"
      },
      "execution_count": null,
      "outputs": []
    }
  ]
}